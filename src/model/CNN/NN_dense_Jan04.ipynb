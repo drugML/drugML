{
 "cells": [
  {
   "cell_type": "code",
   "execution_count": 5,
   "metadata": {
    "scrolled": true
   },
   "outputs": [],
   "source": [
    "\n",
    "# first neural network with keras tutorial\n",
    "import pands\n",
    "from keras.models import Sequential\n",
    "from keras.layers import Dense"
   ]
  },
  {
   "cell_type": "code",
   "execution_count": 25,
   "metadata": {},
   "outputs": [
    {
     "name": "stdout",
     "output_type": "stream",
     "text": [
      "[['CID' 'WEIGHT' 'HYDRO_BOND_DONOR_COUNT' ... 'SOLUBILITY (mg/L)' 'logP'\n",
      "  'LABEL']\n",
      " ['1978' '336.4' '3' ... '259' '1.71' '1']\n",
      " ['16231' '229.63' '4' ... '616' '-0.3' '1']\n",
      " ...\n",
      " ['5339' '398.4' '3' ... '46.4' '2.5' '0']\n",
      " ['159269' '242.23' '3' ... '66800' '-1.4' '0']\n",
      " ['60855' '332.31' '7' ... '7310' '-3' '0']]\n",
      "################\n",
      "[['1978' '336.4' '3' ... '401' '410.15' '259']\n",
      " ['16231' '229.63' '4' ... '279' '513.65' '616']\n",
      " ['2162' '408.9' '2' ... '647' '473.15' '7.4']\n",
      " ...\n",
      " ['5339' '398.4' '3' ... '657' '240' '46.4']\n",
      " ['159269' '242.23' '3' ... '381' '189' '66800']\n",
      " ['60855' '332.31' '7' ... '518' '256' '7310']]\n",
      "################\n",
      "['1' '1' '1' '1' '1' '1' '1' '1' '1' '1' '1' '1' '1' '1' '1' '1' '1' '1'\n",
      " '1' '1' '1' '1' '1' '1' '1' '1' '1' '1' '1' '1' '1' '1' '1' '1' '1' '1'\n",
      " '1' '1' '1' '1' '1' '1' '1' '1' '1' '1' '1' '1' '1' '1' '1' '1' '1' '1'\n",
      " '1' '1' '1' '1' '1' '1' '1' '1' '1' '1' '1' '1' '1' '1' '1' '1' '1' '1'\n",
      " '1' '1' '1' '1' '1' '1' '1' '1' '0' '0' '0' '0' '0' '0' '0' '0' '0' '0'\n",
      " '0' '0' '0' '0' '0' '0' '0' '0' '0' '0' '0' '0' '0' '0' '0' '0' '0' '0'\n",
      " '0' '0' '0' '0' '0' '0' '0' '0' '0' '0' '0' '0' '0' '0' '0' '0' '0' '0'\n",
      " '0' '0' '0']\n"
     ]
    }
   ],
   "source": [
    "# import data\n",
    "file_name = \"training_0.0.1.csv\"\n",
    "# load the dataset\n",
    "dataframe = pandas.read_csv(file_name,header=None)\n",
    "dataset = dataframe.values\n",
    "print(dataset)\n",
    "print(\"################\")\n",
    "num_row = dataset.shape[0]\n",
    "num_col = dataset.shape[1]\n",
    "X = dataset[1:,0:num_col-2]\n",
    "Y = dataset[1:,num_col-1]\n",
    "print(X)\n",
    "print(\"################\")\n",
    "print(Y)"
   ]
  },
  {
   "cell_type": "code",
   "execution_count": 48,
   "metadata": {},
   "outputs": [],
   "source": [
    "\n",
    "# define the keras model\n",
    "model = Sequential()\n",
    "model.add(Dense(12, input_dim=10, activation='relu'))\n",
    "model.add(Dense(12,activation='relu'))\n",
    "model.add(Dense(10,activation='relu'))\n",
    "model.add(Dense(8, activation='relu'))\n",
    "model.add(Dense(1, activation='sigmoid'))"
   ]
  },
  {
   "cell_type": "code",
   "execution_count": 50,
   "metadata": {},
   "outputs": [
    {
     "name": "stdout",
     "output_type": "stream",
     "text": [
      "Epoch 1/80\n",
      "129/129 [==============================] - 0s 1ms/step - loss: 3767.1547 - accuracy: 0.7364\n",
      "Epoch 2/80\n",
      "129/129 [==============================] - 0s 134us/step - loss: 3284.9484 - accuracy: 0.6977\n",
      "Epoch 3/80\n",
      "129/129 [==============================] - 0s 129us/step - loss: 205.4904 - accuracy: 0.7054\n",
      "Epoch 4/80\n",
      "129/129 [==============================] - 0s 138us/step - loss: 2157.2497 - accuracy: 0.6977\n",
      "Epoch 5/80\n",
      "129/129 [==============================] - 0s 132us/step - loss: 1795.9299 - accuracy: 0.6977\n",
      "Epoch 6/80\n",
      "129/129 [==============================] - 0s 142us/step - loss: 3495.8189 - accuracy: 0.6977\n",
      "Epoch 7/80\n",
      "129/129 [==============================] - 0s 144us/step - loss: 3500.6933 - accuracy: 0.7287\n",
      "Epoch 8/80\n",
      "129/129 [==============================] - 0s 141us/step - loss: 7873.6931 - accuracy: 0.6512\n",
      "Epoch 9/80\n",
      "129/129 [==============================] - 0s 135us/step - loss: 6717.3095 - accuracy: 0.7132\n",
      "Epoch 10/80\n",
      "129/129 [==============================] - 0s 130us/step - loss: 3038.6515 - accuracy: 0.7597\n",
      "Epoch 11/80\n",
      "129/129 [==============================] - 0s 137us/step - loss: 711.6956 - accuracy: 0.7209\n",
      "Epoch 12/80\n",
      "129/129 [==============================] - 0s 125us/step - loss: 998.4102 - accuracy: 0.7209\n",
      "Epoch 13/80\n",
      "129/129 [==============================] - 0s 123us/step - loss: 2929.9649 - accuracy: 0.7132\n",
      "Epoch 14/80\n",
      "129/129 [==============================] - 0s 130us/step - loss: 5330.4110 - accuracy: 0.7054\n",
      "Epoch 15/80\n",
      "129/129 [==============================] - 0s 128us/step - loss: 741.0339 - accuracy: 0.7209\n",
      "Epoch 16/80\n",
      "129/129 [==============================] - 0s 130us/step - loss: 2829.5750 - accuracy: 0.7287\n",
      "Epoch 17/80\n",
      "129/129 [==============================] - 0s 128us/step - loss: 1634.4419 - accuracy: 0.7442\n",
      "Epoch 18/80\n",
      "129/129 [==============================] - 0s 115us/step - loss: 5725.3819 - accuracy: 0.6667\n",
      "Epoch 19/80\n",
      "129/129 [==============================] - 0s 134us/step - loss: 1819.3490 - accuracy: 0.7442\n",
      "Epoch 20/80\n",
      "129/129 [==============================] - 0s 134us/step - loss: 596.5856 - accuracy: 0.7519\n",
      "Epoch 21/80\n",
      "129/129 [==============================] - 0s 117us/step - loss: 4881.6226 - accuracy: 0.6899\n",
      "Epoch 22/80\n",
      "129/129 [==============================] - 0s 121us/step - loss: 431.1381 - accuracy: 0.7674\n",
      "Epoch 23/80\n",
      "129/129 [==============================] - 0s 120us/step - loss: 3608.5781 - accuracy: 0.7364\n",
      "Epoch 24/80\n",
      "129/129 [==============================] - 0s 120us/step - loss: 2657.5210 - accuracy: 0.7829\n",
      "Epoch 25/80\n",
      "129/129 [==============================] - 0s 112us/step - loss: 82.5109 - accuracy: 0.7752\n",
      "Epoch 26/80\n",
      "129/129 [==============================] - 0s 113us/step - loss: 4383.5144 - accuracy: 0.7364\n",
      "Epoch 27/80\n",
      "129/129 [==============================] - 0s 115us/step - loss: 918.2082 - accuracy: 0.8372\n",
      "Epoch 28/80\n",
      "129/129 [==============================] - 0s 122us/step - loss: 3762.6853 - accuracy: 0.7364\n",
      "Epoch 29/80\n",
      "129/129 [==============================] - 0s 114us/step - loss: 3324.6424 - accuracy: 0.7287\n",
      "Epoch 30/80\n",
      "129/129 [==============================] - 0s 123us/step - loss: 5406.6218 - accuracy: 0.7209\n",
      "Epoch 31/80\n",
      "129/129 [==============================] - 0s 112us/step - loss: 2059.4441 - accuracy: 0.7752\n",
      "Epoch 32/80\n",
      "129/129 [==============================] - 0s 135us/step - loss: 3257.7595 - accuracy: 0.7829\n",
      "Epoch 33/80\n",
      "129/129 [==============================] - 0s 118us/step - loss: 3325.9244 - accuracy: 0.7054\n",
      "Epoch 34/80\n",
      "129/129 [==============================] - 0s 126us/step - loss: 2309.8312 - accuracy: 0.7364\n",
      "Epoch 35/80\n",
      "129/129 [==============================] - 0s 121us/step - loss: 4394.5423 - accuracy: 0.7364\n",
      "Epoch 36/80\n",
      "129/129 [==============================] - 0s 113us/step - loss: 1377.4466 - accuracy: 0.6899\n",
      "Epoch 37/80\n",
      "129/129 [==============================] - 0s 124us/step - loss: 2651.5628 - accuracy: 0.7674\n",
      "Epoch 38/80\n",
      "129/129 [==============================] - 0s 120us/step - loss: 1281.1923 - accuracy: 0.7442\n",
      "Epoch 39/80\n",
      "129/129 [==============================] - 0s 120us/step - loss: 2750.1291 - accuracy: 0.7132\n",
      "Epoch 40/80\n",
      "129/129 [==============================] - 0s 131us/step - loss: 2381.7229 - accuracy: 0.6977\n",
      "Epoch 41/80\n",
      "129/129 [==============================] - 0s 130us/step - loss: 249.0964 - accuracy: 0.7519\n",
      "Epoch 42/80\n",
      "129/129 [==============================] - 0s 119us/step - loss: 705.0517 - accuracy: 0.7752\n",
      "Epoch 43/80\n",
      "129/129 [==============================] - 0s 124us/step - loss: 3177.8074 - accuracy: 0.7519\n",
      "Epoch 44/80\n",
      "129/129 [==============================] - 0s 111us/step - loss: 2031.8278 - accuracy: 0.7442\n",
      "Epoch 45/80\n",
      "129/129 [==============================] - 0s 114us/step - loss: 2141.0115 - accuracy: 0.7209\n",
      "Epoch 46/80\n",
      "129/129 [==============================] - 0s 121us/step - loss: 4614.7423 - accuracy: 0.6744\n",
      "Epoch 47/80\n",
      "129/129 [==============================] - 0s 122us/step - loss: 8815.9867 - accuracy: 0.7054\n",
      "Epoch 48/80\n",
      "129/129 [==============================] - 0s 113us/step - loss: 4618.7063 - accuracy: 0.7209\n",
      "Epoch 49/80\n",
      "129/129 [==============================] - 0s 125us/step - loss: 2353.2907 - accuracy: 0.7442\n",
      "Epoch 50/80\n",
      "129/129 [==============================] - 0s 129us/step - loss: 6444.2906 - accuracy: 0.6977\n",
      "Epoch 51/80\n",
      "129/129 [==============================] - 0s 135us/step - loss: 3441.8846 - accuracy: 0.7519\n",
      "Epoch 52/80\n",
      "129/129 [==============================] - 0s 136us/step - loss: 7578.1254 - accuracy: 0.6667\n",
      "Epoch 53/80\n",
      "129/129 [==============================] - 0s 119us/step - loss: 3422.8794 - accuracy: 0.7054\n",
      "Epoch 54/80\n",
      "129/129 [==============================] - 0s 137us/step - loss: 2051.3272 - accuracy: 0.6899\n",
      "Epoch 55/80\n",
      "129/129 [==============================] - 0s 116us/step - loss: 2780.7270 - accuracy: 0.6977\n",
      "Epoch 56/80\n",
      "129/129 [==============================] - 0s 113us/step - loss: 2692.9086 - accuracy: 0.7442\n",
      "Epoch 57/80\n",
      "129/129 [==============================] - 0s 127us/step - loss: 2075.9258 - accuracy: 0.7132\n",
      "Epoch 58/80\n",
      "129/129 [==============================] - 0s 113us/step - loss: 5554.6263 - accuracy: 0.7054\n",
      "Epoch 59/80\n",
      "129/129 [==============================] - 0s 131us/step - loss: 741.2786 - accuracy: 0.7829\n",
      "Epoch 60/80\n",
      "129/129 [==============================] - 0s 120us/step - loss: 1231.9928 - accuracy: 0.7674\n",
      "Epoch 61/80\n",
      "129/129 [==============================] - 0s 129us/step - loss: 3095.8172 - accuracy: 0.7132\n",
      "Epoch 62/80\n",
      "129/129 [==============================] - 0s 144us/step - loss: 2688.6557 - accuracy: 0.7209\n",
      "Epoch 63/80\n",
      "129/129 [==============================] - 0s 127us/step - loss: 3236.4189 - accuracy: 0.7287\n",
      "Epoch 64/80\n",
      "129/129 [==============================] - 0s 126us/step - loss: 1671.9866 - accuracy: 0.7287\n",
      "Epoch 65/80\n",
      "129/129 [==============================] - 0s 118us/step - loss: 3664.2387 - accuracy: 0.7597\n",
      "Epoch 66/80\n",
      "129/129 [==============================] - 0s 109us/step - loss: 805.7649 - accuracy: 0.7752\n",
      "Epoch 67/80\n",
      "129/129 [==============================] - 0s 123us/step - loss: 180.0885 - accuracy: 0.8140\n",
      "Epoch 68/80\n",
      "129/129 [==============================] - 0s 126us/step - loss: 432.0760 - accuracy: 0.7984\n",
      "Epoch 69/80\n",
      "129/129 [==============================] - 0s 115us/step - loss: 3444.5738 - accuracy: 0.6899\n",
      "Epoch 70/80\n",
      "129/129 [==============================] - 0s 118us/step - loss: 4564.5731 - accuracy: 0.7209\n",
      "Epoch 71/80\n",
      "129/129 [==============================] - 0s 119us/step - loss: 817.6574 - accuracy: 0.7287\n",
      "Epoch 72/80\n",
      "129/129 [==============================] - 0s 112us/step - loss: 1463.7741 - accuracy: 0.7674\n",
      "Epoch 73/80\n",
      "129/129 [==============================] - 0s 117us/step - loss: 834.6657 - accuracy: 0.7442\n",
      "Epoch 74/80\n",
      "129/129 [==============================] - 0s 112us/step - loss: 2724.9445 - accuracy: 0.7674\n",
      "Epoch 75/80\n",
      "129/129 [==============================] - 0s 118us/step - loss: 254.5859 - accuracy: 0.7674\n",
      "Epoch 76/80\n",
      "129/129 [==============================] - 0s 116us/step - loss: 3428.8792 - accuracy: 0.7829\n",
      "Epoch 77/80\n",
      "129/129 [==============================] - 0s 114us/step - loss: 3871.5609 - accuracy: 0.7209\n",
      "Epoch 78/80\n"
     ]
    },
    {
     "name": "stdout",
     "output_type": "stream",
     "text": [
      "129/129 [==============================] - 0s 124us/step - loss: 550.3920 - accuracy: 0.7829\n",
      "Epoch 79/80\n",
      "129/129 [==============================] - 0s 115us/step - loss: 1039.9389 - accuracy: 0.7752\n",
      "Epoch 80/80\n",
      "129/129 [==============================] - 0s 124us/step - loss: 1992.6674 - accuracy: 0.7829\n"
     ]
    },
    {
     "data": {
      "text/plain": [
       "<keras.callbacks.callbacks.History at 0x7fefee3167d0>"
      ]
     },
     "execution_count": 50,
     "metadata": {},
     "output_type": "execute_result"
    }
   ],
   "source": [
    "\n",
    "# compile the keras model\n",
    "model.compile(loss='binary_crossentropy', optimizer='adam', metrics=['accuracy'])\n",
    "\n",
    "# fit the keras model on the dataset\n",
    "model.fit(X, Y, epochs=80, batch_size=10)"
   ]
  },
  {
   "cell_type": "code",
   "execution_count": 51,
   "metadata": {},
   "outputs": [
    {
     "name": "stdout",
     "output_type": "stream",
     "text": [
      "129/129 [==============================] - 0s 540us/step\n",
      "Accuracy: 74.42\n"
     ]
    }
   ],
   "source": [
    "\n",
    "# evaluate the keras model\n",
    "_, accuracy = model.evaluate(X, Y)\n",
    "print('Accuracy: %.2f' % (accuracy*100))"
   ]
  },
  {
   "cell_type": "code",
   "execution_count": null,
   "metadata": {},
   "outputs": [],
   "source": []
  }
 ],
 "metadata": {
  "kernelspec": {
   "display_name": "Python 3",
   "language": "python",
   "name": "python3"
  },
  "language_info": {
   "codemirror_mode": {
    "name": "ipython",
    "version": 2
   },
   "file_extension": ".py",
   "mimetype": "text/x-python",
   "name": "python",
   "nbconvert_exporter": "python",
   "pygments_lexer": "ipython2",
   "version": "2.7.17"
  },
  "varInspector": {
   "cols": {
    "lenName": 16,
    "lenType": 16,
    "lenVar": 40
   },
   "kernels_config": {
    "python": {
     "delete_cmd_postfix": "",
     "delete_cmd_prefix": "del ",
     "library": "var_list.py",
     "varRefreshCmd": "print(var_dic_list())"
    },
    "r": {
     "delete_cmd_postfix": ") ",
     "delete_cmd_prefix": "rm(",
     "library": "var_list.r",
     "varRefreshCmd": "cat(var_dic_list()) "
    }
   },
   "types_to_exclude": [
    "module",
    "function",
    "builtin_function_or_method",
    "instance",
    "_Feature"
   ],
   "window_display": false
  }
 },
 "nbformat": 4,
 "nbformat_minor": 2
}
